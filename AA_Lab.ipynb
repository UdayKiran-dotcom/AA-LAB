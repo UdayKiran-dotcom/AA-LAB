{
  "nbformat": 4,
  "nbformat_minor": 0,
  "metadata": {
    "colab": {
      "provenance": [],
      "include_colab_link": true
    },
    "kernelspec": {
      "name": "python3",
      "display_name": "Python 3"
    },
    "language_info": {
      "name": "python"
    }
  },
  "cells": [
    {
      "cell_type": "markdown",
      "metadata": {
        "id": "view-in-github",
        "colab_type": "text"
      },
      "source": [
        "<a href=\"https://colab.research.google.com/github/UdayKiran-dotcom/AA-LAB/blob/main/AA_Lab.ipynb\" target=\"_parent\"><img src=\"https://colab.research.google.com/assets/colab-badge.svg\" alt=\"Open In Colab\"/></a>"
      ]
    },
    {
      "cell_type": "markdown",
      "source": [
        "##**BINARY SEARCH**"
      ],
      "metadata": {
        "id": "iGEPBf9RLviW"
      }
    },
    {
      "cell_type": "code",
      "execution_count": null,
      "metadata": {
        "colab": {
          "base_uri": "https://localhost:8080/"
        },
        "id": "GU4srH3oHxuT",
        "outputId": "617236d4-7e0f-4eb6-f76a-badb64017090"
      },
      "outputs": [
        {
          "output_type": "stream",
          "name": "stdout",
          "text": [
            "Binary Search: Element 4 found at index 3\n"
          ]
        }
      ],
      "source": [
        "def binary_search(arr, target):\n",
        "    low = 0\n",
        "    high = len(arr) - 1\n",
        "\n",
        "    while low <= high:\n",
        "        mid = (low + high) // 2\n",
        "        if arr[mid] == target:\n",
        "            return mid\n",
        "        elif arr[mid] < target:\n",
        "            low = mid + 1\n",
        "        else:\n",
        "            high = mid - 1\n",
        "\n",
        "    return -1\n",
        "\n",
        "# Example usage\n",
        "arr = [1, 2, 3, 4, 5]\n",
        "target = 4\n",
        "result = binary_search(arr, target)\n",
        "print(f\"Binary Search: Element {target} found at index {result}\")\n"
      ]
    },
    {
      "cell_type": "markdown",
      "source": [
        "##**BUBBLE SORT**"
      ],
      "metadata": {
        "id": "xC4AhWWifcq_"
      }
    },
    {
      "cell_type": "code",
      "source": [
        "def bubble_sort(arr):\n",
        "    n = len(arr)\n",
        "    for i in range(n):\n",
        "        for j in range(0, n - i - 1):\n",
        "            if arr[j] > arr[j + 1]:\n",
        "                arr[j], arr[j + 1] = arr[j + 1], arr[j]\n",
        "    return arr\n",
        "\n",
        "# Example usage\n",
        "arr = [64, 34, 25, 12, 22, 11, 90]\n",
        "sorted_arr = bubble_sort(arr)\n",
        "print(f\"Bubble Sort: Sorted array is {sorted_arr}\")"
      ],
      "metadata": {
        "colab": {
          "base_uri": "https://localhost:8080/"
        },
        "id": "VYOflujHfjJ4",
        "outputId": "ac0f958d-112c-41dd-e4c3-18819bdda2be"
      },
      "execution_count": null,
      "outputs": [
        {
          "output_type": "stream",
          "name": "stdout",
          "text": [
            "Bubble Sort: Sorted array is [11, 12, 22, 25, 34, 64, 90]\n"
          ]
        }
      ]
    },
    {
      "cell_type": "markdown",
      "source": [
        "##**QUICK SORT**"
      ],
      "metadata": {
        "id": "lUg2EAGPL4cU"
      }
    },
    {
      "cell_type": "code",
      "source": [
        "def quick_sort(arr, low, high):\n",
        "    if low < high:\n",
        "        pi = partition(arr, low, high)\n",
        "        quick_sort(arr, low, pi - 1)  # Recursively sort the left subarray\n",
        "        quick_sort(arr, pi + 1, high)  # Recursively sort the right subarray\n",
        "\n",
        "def partition(arr, low, high):\n",
        "    pivot = arr[high]  # Pivot element\n",
        "    i = low - 1        # Index of smaller element\n",
        "    for j in range(low, high):\n",
        "        if arr[j] < pivot:\n",
        "            i += 1\n",
        "            arr[i], arr[j] = arr[j], arr[i]  # Swap if element is smaller than pivot\n",
        "    arr[i + 1], arr[high] = arr[high], arr[i + 1]  # Swap pivot to correct position\n",
        "    return i + 1\n",
        "\n",
        "# Example usage\n",
        "arr = [10, 7, 8, 9, 1, 5]\n",
        "quick_sort(arr, 0, len(arr) - 1)\n",
        "print(\"Sorted array is:\", arr)\n"
      ],
      "metadata": {
        "colab": {
          "base_uri": "https://localhost:8080/"
        },
        "id": "OWuDBHwPHzom",
        "outputId": "f71c1d0c-7bc2-4f77-d433-7ec2b1067dbb"
      },
      "execution_count": null,
      "outputs": [
        {
          "output_type": "stream",
          "name": "stdout",
          "text": [
            "Sorted array is: [1, 5, 7, 8, 9, 10]\n"
          ]
        }
      ]
    },
    {
      "cell_type": "markdown",
      "source": [
        "##**MERGE SORT**"
      ],
      "metadata": {
        "id": "3cDyWjXBMBLH"
      }
    },
    {
      "cell_type": "code",
      "source": [
        "def merge_sort(arr):\n",
        "    if len(arr) > 1:\n",
        "        mid = len(arr) // 2\n",
        "        left_half = arr[:mid]\n",
        "        right_half = arr[mid:]\n",
        "\n",
        "        merge_sort(left_half)\n",
        "        merge_sort(right_half)\n",
        "\n",
        "        i = j = k = 0\n",
        "\n",
        "        while i < len(left_half) and j < len(right_half):\n",
        "            if left_half[i] < right_half[j]:\n",
        "                arr[k] = left_half[i]\n",
        "                i += 1\n",
        "            else:\n",
        "                arr[k] = right_half[j]\n",
        "                j += 1\n",
        "            k += 1\n",
        "\n",
        "        while i < len(left_half):\n",
        "            arr[k] = left_half[i]\n",
        "            i += 1\n",
        "            k += 1\n",
        "\n",
        "        while j < len(right_half):\n",
        "            arr[k] = right_half[j]\n",
        "            j += 1\n",
        "            k += 1\n",
        "\n",
        "# Example usage\n",
        "arr = [12, 11, 13, 5, 6, 7]\n",
        "merge_sort(arr)\n",
        "print(\"Sorted array is:\", arr)\n"
      ],
      "metadata": {
        "colab": {
          "base_uri": "https://localhost:8080/"
        },
        "id": "gZBpG_ZqLsDV",
        "outputId": "ff2adcb1-a29f-47f2-f01e-69ef2bcfd394"
      },
      "execution_count": null,
      "outputs": [
        {
          "output_type": "stream",
          "name": "stdout",
          "text": [
            "Sorted array is: [5, 6, 7, 11, 12, 13]\n"
          ]
        }
      ]
    },
    {
      "cell_type": "markdown",
      "source": [
        "##**INSERTION SORT**"
      ],
      "metadata": {
        "id": "X3CuxvODNTZM"
      }
    },
    {
      "cell_type": "code",
      "source": [
        "def insertion_sort(arr):\n",
        "    for i in range(1, len(arr)):\n",
        "        key = arr[i]\n",
        "        j = i - 1\n",
        "        while j >= 0 and key < arr[j]:\n",
        "            arr[j + 1] = arr[j]\n",
        "            j -= 1\n",
        "        arr[j + 1] = key\n",
        "\n",
        "# Example usage\n",
        "arr = [12, 11, 13, 5, 6]\n",
        "insertion_sort(arr)\n",
        "print(\"Sorted array is:\", arr)\n"
      ],
      "metadata": {
        "colab": {
          "base_uri": "https://localhost:8080/"
        },
        "id": "QBld7scrNSBV",
        "outputId": "8214388f-9716-4697-d65d-d7540571241d"
      },
      "execution_count": null,
      "outputs": [
        {
          "output_type": "stream",
          "name": "stdout",
          "text": [
            "Sorted array is: [5, 6, 11, 12, 13]\n"
          ]
        }
      ]
    },
    {
      "cell_type": "markdown",
      "source": [
        "##**SELECTION SORT**"
      ],
      "metadata": {
        "id": "Dqa24SCqNeq8"
      }
    },
    {
      "cell_type": "code",
      "source": [
        "def selection_sort(arr):\n",
        "    n = len(arr)\n",
        "    for i in range(n):\n",
        "        min_index = i\n",
        "        for j in range(i+1, n):\n",
        "            if arr[j] < arr[min_index]:\n",
        "                min_index = j\n",
        "        arr[i], arr[min_index] = arr[min_index], arr[i]\n",
        "    return arr\n",
        "\n",
        "# Example usage\n",
        "arr = [64, 25, 12, 22, 11]\n",
        "sorted_arr = selection_sort(arr)\n",
        "print(f\"Selection Sort: {sorted_arr}\")\n"
      ],
      "metadata": {
        "colab": {
          "base_uri": "https://localhost:8080/"
        },
        "id": "6OnK-jvnMKzT",
        "outputId": "45843b4b-dbe7-4677-a5ea-47b023c01cac"
      },
      "execution_count": null,
      "outputs": [
        {
          "output_type": "stream",
          "name": "stdout",
          "text": [
            "Selection Sort: [11, 12, 22, 25, 64]\n"
          ]
        }
      ]
    },
    {
      "cell_type": "markdown",
      "source": [
        "##**DFS RECURSIVE**"
      ],
      "metadata": {
        "id": "WYi9cNKHN7T2"
      }
    },
    {
      "cell_type": "code",
      "source": [
        "def dfs_recursive(graph, node, visited=None):\n",
        "    if visited is None:\n",
        "        visited = set()\n",
        "\n",
        "    # Mark the current node as visited\n",
        "    visited.add(node)\n",
        "    print(node, end=\" \")\n",
        "\n",
        "    # Recur for all adjacent vertices\n",
        "    for neighbor in graph[node]:\n",
        "        if neighbor not in visited:\n",
        "            dfs_recursive(graph, neighbor, visited)\n",
        "\n",
        "# Example usage:\n",
        "\n",
        "graph = {\n",
        "    'A': ['B', 'C'],\n",
        "    'B': ['D', 'E'],\n",
        "    'C': ['F'],\n",
        "    'D': [],\n",
        "    'E': [],\n",
        "    'F': []\n",
        "}\n",
        "\n",
        "print(\"DFS Traversal (Recursive): \", end=\"\")\n",
        "dfs_recursive(graph, 'A')\n"
      ],
      "metadata": {
        "colab": {
          "base_uri": "https://localhost:8080/"
        },
        "id": "xVjaQKR7Nltt",
        "outputId": "286d00f2-8678-431a-db91-6387ffffdac1"
      },
      "execution_count": null,
      "outputs": [
        {
          "output_type": "stream",
          "name": "stdout",
          "text": [
            "DFS Traversal (Recursive): A B D E C F "
          ]
        }
      ]
    },
    {
      "cell_type": "markdown",
      "source": [
        "##**DFS ITERATIVE**"
      ],
      "metadata": {
        "id": "-PF8-oxGOl5t"
      }
    },
    {
      "cell_type": "code",
      "source": [
        "def dfs_iterative(graph, start_node):\n",
        "    visited = set()  # To keep track of visited nodes\n",
        "    stack = [start_node]  # Stack to manage the nodes to visit\n",
        "\n",
        "    while stack:\n",
        "        node = stack.pop()  # Pop a node from the stack\n",
        "        if node not in visited:\n",
        "            print(node, end=\" \")\n",
        "            visited.add(node)\n",
        "\n",
        "            # Push all unvisited adjacent nodes to the stack\n",
        "            for neighbor in reversed(graph[node]):\n",
        "                if neighbor not in visited:\n",
        "                    stack.append(neighbor)\n",
        "\n",
        "# Example usage:\n",
        "\n",
        "graph = {\n",
        "    'A': ['B', 'C'],\n",
        "    'B': ['D', 'E'],\n",
        "    'C': ['F'],\n",
        "    'D': [],\n",
        "    'E': [],\n",
        "    'F': []\n",
        "}\n",
        "\n",
        "print(\"DFS Traversal (Iterative): \", end=\"\")\n",
        "dfs_iterative(graph, 'A')\n"
      ],
      "metadata": {
        "colab": {
          "base_uri": "https://localhost:8080/"
        },
        "id": "_3vnp5SSObzU",
        "outputId": "a63242d0-4600-4a24-d288-e3f1f2ca9750"
      },
      "execution_count": null,
      "outputs": [
        {
          "output_type": "stream",
          "name": "stdout",
          "text": [
            "DFS Traversal (Iterative): A B D E C F "
          ]
        }
      ]
    },
    {
      "cell_type": "markdown",
      "source": [
        "##**BFS**"
      ],
      "metadata": {
        "id": "0GU84ey5PG2u"
      }
    },
    {
      "cell_type": "code",
      "source": [
        "from collections import deque\n",
        "\n",
        "def bfs(graph, start):\n",
        "    visited = set()  # Set to keep track of visited nodes\n",
        "    queue = deque([start])  # Initialize the queue with the start node\n",
        "\n",
        "    while queue:\n",
        "        node = queue.popleft()  # Dequeue a node\n",
        "        if node not in visited:\n",
        "            print(node, end=\" \")  # Process the node (e.g., print it)\n",
        "            visited.add(node)  # Mark the node as visited\n",
        "\n",
        "            # Enqueue all unvisited neighbors\n",
        "            for neighbor in graph[node]:\n",
        "                if neighbor not in visited:\n",
        "                    queue.append(neighbor)\n",
        "\n",
        "# Example usage\n",
        "graph = {\n",
        "    'A': ['B', 'C'],\n",
        "    'B': ['A', 'D', 'E'],\n",
        "    'C': ['A', 'F'],\n",
        "    'D': ['B'],\n",
        "    'E': ['B', 'F'],\n",
        "    'F': ['C', 'E']\n",
        "}\n",
        "\n",
        "print(\"BFS traversal starting from node 'A':\")\n",
        "bfs(graph, 'A')\n"
      ],
      "metadata": {
        "colab": {
          "base_uri": "https://localhost:8080/"
        },
        "id": "lcKh2UlhO4j9",
        "outputId": "550d0b27-9012-4a44-8c59-69e1b7bba84c"
      },
      "execution_count": null,
      "outputs": [
        {
          "output_type": "stream",
          "name": "stdout",
          "text": [
            "BFS traversal starting from node 'A':\n",
            "A B C D E F "
          ]
        }
      ]
    },
    {
      "cell_type": "markdown",
      "source": [
        "##**DJIKSTRAS**\n"
      ],
      "metadata": {
        "id": "w-KchG7JfGNb"
      }
    },
    {
      "cell_type": "code",
      "source": [
        "import heapq\n",
        "\n",
        "def dijkstra(graph, start):\n",
        "    # Initialize distances and priority queue\n",
        "    distances = {node: float('infinity') for node in graph}\n",
        "    distances[start] = 0\n",
        "    priority_queue = [(0, start)]\n",
        "\n",
        "    while priority_queue:\n",
        "        # Get the node with the smallest distance\n",
        "        current_distance, current_node = heapq.heappop(priority_queue)\n",
        "\n",
        "        # Skip processing if we've already found a shorter path\n",
        "        if current_distance > distances[current_node]:\n",
        "            continue\n",
        "\n",
        "        # Examine neighbors\n",
        "        for neighbor, weight in graph[current_node].items():\n",
        "            distance = current_distance + weight\n",
        "\n",
        "            # Only consider paths that improve the distance to the neighbor\n",
        "            if distance < distances[neighbor]:\n",
        "                distances[neighbor] = distance\n",
        "                heapq.heappush(priority_queue, (distance, neighbor))\n",
        "\n",
        "    return distances\n",
        "\n",
        "graph = {\n",
        "    'A': {'B': 1, 'C': 4},\n",
        "    'B': {'A': 1, 'C': 2, 'D': 5},\n",
        "    'C': {'A': 4, 'B': 2, 'D': 1},\n",
        "    'D': {'B': 5, 'C': 1}\n",
        "}\n",
        "start_node = 'A'\n",
        "shortest_distances = dijkstra(graph, start_node)\n",
        "print(f\"Shortest distances from node {start_node}: {shortest_distances}\")"
      ],
      "metadata": {
        "id": "YxaPJ08GPS2k",
        "colab": {
          "base_uri": "https://localhost:8080/"
        },
        "outputId": "23afc8ac-c71b-4f13-abcd-5b83e68d5578"
      },
      "execution_count": null,
      "outputs": [
        {
          "output_type": "stream",
          "name": "stdout",
          "text": [
            "Shortest distances from node A: {'A': 0, 'B': 1, 'C': 3, 'D': 4}\n"
          ]
        }
      ]
    },
    {
      "cell_type": "markdown",
      "source": [
        "##**PRIMS**"
      ],
      "metadata": {
        "id": "TScAPJZrfyqL"
      }
    },
    {
      "cell_type": "code",
      "source": [
        "import heapq\n",
        "\n",
        "def prim(graph, start):\n",
        "    # Initialize the MST and the priority queue\n",
        "    mst = []\n",
        "    visited = set([start])\n",
        "    edges = [(cost, start, to) for to, cost in graph[start].items()]\n",
        "    heapq.heapify(edges)\n",
        "\n",
        "    while edges:\n",
        "        cost, frm, to = heapq.heappop(edges)\n",
        "\n",
        "        # If the node has already been visited, skip it\n",
        "        if to in visited:\n",
        "            continue\n",
        "\n",
        "        # Add the edge to the MST\n",
        "        mst.append((frm, to, cost))\n",
        "        visited.add(to)\n",
        "\n",
        "        # Add all edges from the newly visited node to the priority queue\n",
        "        for to_next, cost in graph[to].items():\n",
        "            if to_next not in visited:\n",
        "                heapq.heappush(edges, (cost, to, to_next))\n",
        "\n",
        "    return mst\n",
        "graph = {\n",
        "    'A': {'B': 1, 'C': 3},\n",
        "    'B': {'A': 1, 'C': 3, 'D': 6},\n",
        "    'C': {'A': 3, 'B': 3, 'D': 4, 'E': 2},\n",
        "    'D': {'B': 6, 'C': 4, 'E': 5},\n",
        "    'E': {'C': 2, 'D': 5}\n",
        "}\n",
        "mst = prim(graph, 'A')\n",
        "print(mst)\n"
      ],
      "metadata": {
        "colab": {
          "base_uri": "https://localhost:8080/"
        },
        "id": "H11ldipqe6r0",
        "outputId": "e970d56a-8f9f-4e9a-c00e-16e382b9f9e5"
      },
      "execution_count": null,
      "outputs": [
        {
          "output_type": "stream",
          "name": "stdout",
          "text": [
            "[('A', 'B', 1), ('A', 'C', 3), ('C', 'E', 2), ('C', 'D', 4)]\n"
          ]
        }
      ]
    },
    {
      "cell_type": "markdown",
      "source": [
        "##**KRUSHKALS**"
      ],
      "metadata": {
        "id": "e16ebo6jgZDs"
      }
    },
    {
      "cell_type": "code",
      "source": [
        "class UnionFind:\n",
        "    def __init__(self, n):\n",
        "        self.parent = list(range(n))\n",
        "        self.rank = [0] * n\n",
        "\n",
        "    def find(self, node):\n",
        "        if self.parent[node] != node:\n",
        "            self.parent[node] = self.find(self.parent[node])\n",
        "        return self.parent[node]\n",
        "\n",
        "    def union(self, u, v):\n",
        "        root_u = self.find(u)\n",
        "        root_v = self.find(v)\n",
        "\n",
        "        if root_u != root_v:\n",
        "            # Union by rank\n",
        "            if self.rank[root_u] > self.rank[root_v]:\n",
        "                self.parent[root_v] = root_u\n",
        "            elif self.rank[root_u] < self.rank[root_v]:\n",
        "                self.parent[root_u] = root_v\n",
        "            else:\n",
        "                self.parent[root_v] = root_u\n",
        "                self.rank[root_u] += 1\n",
        "\n",
        "def kruskal(nodes, edges):\n",
        "    # Sort edges by weight\n",
        "    edges.sort(key=lambda x: x[2])\n",
        "    uf = UnionFind(nodes)\n",
        "    mst = []\n",
        "\n",
        "    for u, v, weight in edges:\n",
        "        # Check if the current edge forms a cycle\n",
        "        if uf.find(u) != uf.find(v):\n",
        "            uf.union(u, v)\n",
        "            mst.append((u, v, weight))\n",
        "\n",
        "    return mst\n",
        "nodes = 5\n",
        "edges = [\n",
        "    (0, 1, 1),\n",
        "    (0, 2, 3),\n",
        "    (1, 2, 3),\n",
        "    (1, 3, 6),\n",
        "    (2, 3, 4),\n",
        "    (2, 4, 2),\n",
        "    (3, 4, 5)\n",
        "]\n",
        "mst = kruskal(nodes, edges)\n",
        "print(mst)\n"
      ],
      "metadata": {
        "colab": {
          "base_uri": "https://localhost:8080/"
        },
        "id": "IZ7iF08zf4Vn",
        "outputId": "e23d62ec-3d2d-4fc9-bd7e-ef0aea689122"
      },
      "execution_count": null,
      "outputs": [
        {
          "output_type": "stream",
          "name": "stdout",
          "text": [
            "[(0, 1, 1), (2, 4, 2), (0, 2, 3), (2, 3, 4)]\n"
          ]
        }
      ]
    },
    {
      "cell_type": "markdown",
      "source": [
        "##**Ford-Fulkerson algorithm**"
      ],
      "metadata": {
        "id": "U3xc7kQDhPxX"
      }
    },
    {
      "cell_type": "code",
      "source": [
        "class Graph:\n",
        "    def __init__(self, graph):\n",
        "        self.graph = graph  # Residual graph\n",
        "        self.ROW = len(graph)\n",
        "\n",
        "    def dfs(self, source, sink, parent):\n",
        "        visited = [False] * self.ROW\n",
        "        stack = [source]\n",
        "        visited[source] = True\n",
        "\n",
        "        while stack:\n",
        "            u = stack.pop()\n",
        "\n",
        "            for v, capacity in enumerate(self.graph[u]):\n",
        "                if not visited[v] and capacity > 0:  # Check if there's available capacity\n",
        "                    stack.append(v)\n",
        "                    visited[v] = True\n",
        "                    parent[v] = u\n",
        "                    if v == sink:\n",
        "                        return True\n",
        "        return False\n",
        "\n",
        "    def ford_fulkerson(self, source, sink):\n",
        "        parent = [-1] * self.ROW\n",
        "        max_flow = 0\n",
        "\n",
        "        while self.dfs(source, sink, parent):\n",
        "            # Find the maximum flow through the path found by DFS\n",
        "            path_flow = float('Inf')\n",
        "            s = sink\n",
        "            while s != source:\n",
        "                path_flow = min(path_flow, self.graph[parent[s]][s])\n",
        "                s = parent[s]\n",
        "\n",
        "            # Update residual capacities of the edges and reverse edges along the path\n",
        "            v = sink\n",
        "            while v != source:\n",
        "                u = parent[v]\n",
        "                self.graph[u][v] -= path_flow\n",
        "                self.graph[v][u] += path_flow\n",
        "                v = parent[v]\n",
        "\n",
        "            max_flow += path_flow\n",
        "\n",
        "        return max_flow\n",
        "graph = [\n",
        "    [0, 16, 13, 0, 0, 0],\n",
        "    [0, 0, 10, 12, 0, 0],\n",
        "    [0, 4, 0, 0, 14, 0],\n",
        "    [0, 0, 9, 0, 0, 20],\n",
        "    [0, 0, 0, 7, 0, 4],\n",
        "    [0, 0, 0, 0, 0, 0]\n",
        "]\n",
        "g = Graph(graph)\n",
        "source = 0\n",
        "sink = 5\n",
        "max_flow = g.ford_fulkerson(source, sink)\n",
        "print(f\"Maximum Flow: {max_flow}\")\n"
      ],
      "metadata": {
        "colab": {
          "base_uri": "https://localhost:8080/"
        },
        "id": "9tQS9cf9goML",
        "outputId": "6c6704fa-5776-4c51-8528-c299e5792d70"
      },
      "execution_count": null,
      "outputs": [
        {
          "output_type": "stream",
          "name": "stdout",
          "text": [
            "Maximum Flow: 23\n"
          ]
        }
      ]
    },
    {
      "cell_type": "code",
      "source": [
        "class Graph:\n",
        "    def __init__(self, graph):\n",
        "        self.graph = graph  # Residual graph\n",
        "        self.ROW = len(graph)\n",
        "\n",
        "    def dfs(self, source, sink, parent):\n",
        "        visited = [False] * self.ROW\n",
        "        stack = [source]\n",
        "        visited[source] = True\n",
        "\n",
        "        while stack:\n",
        "            u = stack.pop()\n",
        "\n",
        "            for v, capacity in enumerate(self.graph[u]):\n",
        "                if not visited[v] and capacity > 0:  # Check if there's available capacity\n",
        "                    stack.append(v)\n",
        "                    visited[v] = True\n",
        "                    parent[v] = u\n",
        "                    if v == sink:\n",
        "                        return True\n",
        "        return False\n",
        "\n",
        "    def ford_fulkerson(self, source, sink):\n",
        "        parent = [-1] * self.ROW\n",
        "        max_flow = 0\n",
        "        iteration = 1\n",
        "\n",
        "        while self.dfs(source, sink, parent):\n",
        "            # Find the maximum flow through the path found by DFS\n",
        "            path_flow = float('Inf')\n",
        "            s = sink\n",
        "            path = []\n",
        "            while s != source:\n",
        "                path_flow = min(path_flow, self.graph[parent[s]][s])\n",
        "                path.append(s)\n",
        "                s = parent[s]\n",
        "            path.append(source)\n",
        "            path = path[::-1]  # reverse to get the path from source to sink\n",
        "\n",
        "            print(f\"Iteration {iteration}: Augmenting path found - {path} with flow {path_flow}\")\n",
        "\n",
        "            # Update residual capacities of the edges and reverse edges along the path\n",
        "            v = sink\n",
        "            while v != source:\n",
        "                u = parent[v]\n",
        "                self.graph[u][v] -= path_flow\n",
        "                self.graph[v][u] += path_flow\n",
        "                v = parent[v]\n",
        "\n",
        "            max_flow += path_flow\n",
        "            print(f\"Updated Residual Graph after iteration {iteration}:\")\n",
        "            for row in self.graph:\n",
        "                print(row)\n",
        "            print(\"\\n\")\n",
        "            iteration += 1\n",
        "\n",
        "        print(f\"Maximum Flow: {max_flow}\")\n",
        "        return max_flow\n",
        "graph = [\n",
        "    [0, 16, 13, 0, 0, 0],\n",
        "    [0, 0, 10, 12, 0, 0],\n",
        "    [0, 4, 0, 0, 14, 0],\n",
        "    [0, 0, 9, 0, 0, 20],\n",
        "    [0, 0, 0, 7, 0, 4],\n",
        "    [0, 0, 0, 0, 0, 0]\n",
        "]\n",
        "\n",
        "g = Graph(graph)\n",
        "source = 0\n",
        "sink = 5\n",
        "g.ford_fulkerson(source, sink)\n"
      ],
      "metadata": {
        "colab": {
          "base_uri": "https://localhost:8080/"
        },
        "id": "qUrYy_bMhWBJ",
        "outputId": "76f822f5-3ebf-46a3-aa5a-2beac3911e21"
      },
      "execution_count": null,
      "outputs": [
        {
          "output_type": "stream",
          "name": "stdout",
          "text": [
            "Iteration 1: Augmenting path found - [0, 2, 4, 5] with flow 4\n",
            "Updated Residual Graph after iteration 1:\n",
            "[0, 16, 9, 0, 0, 0]\n",
            "[0, 0, 10, 12, 0, 0]\n",
            "[4, 4, 0, 0, 10, 0]\n",
            "[0, 0, 9, 0, 0, 20]\n",
            "[0, 0, 4, 7, 0, 0]\n",
            "[0, 0, 0, 0, 4, 0]\n",
            "\n",
            "\n",
            "Iteration 2: Augmenting path found - [0, 2, 4, 3, 5] with flow 7\n",
            "Updated Residual Graph after iteration 2:\n",
            "[0, 16, 2, 0, 0, 0]\n",
            "[0, 0, 10, 12, 0, 0]\n",
            "[11, 4, 0, 0, 3, 0]\n",
            "[0, 0, 9, 0, 7, 13]\n",
            "[0, 0, 11, 0, 0, 0]\n",
            "[0, 0, 0, 7, 4, 0]\n",
            "\n",
            "\n",
            "Iteration 3: Augmenting path found - [0, 1, 3, 5] with flow 12\n",
            "Updated Residual Graph after iteration 3:\n",
            "[0, 4, 2, 0, 0, 0]\n",
            "[12, 0, 10, 0, 0, 0]\n",
            "[11, 4, 0, 0, 3, 0]\n",
            "[0, 12, 9, 0, 7, 1]\n",
            "[0, 0, 11, 0, 0, 0]\n",
            "[0, 0, 0, 19, 4, 0]\n",
            "\n",
            "\n",
            "Maximum Flow: 23\n"
          ]
        },
        {
          "output_type": "execute_result",
          "data": {
            "text/plain": [
              "23"
            ]
          },
          "metadata": {},
          "execution_count": 6
        }
      ]
    },
    {
      "cell_type": "markdown",
      "source": [
        "##**EDMONDS-KARP**"
      ],
      "metadata": {
        "id": "Ud2YD4IFiS8N"
      }
    },
    {
      "cell_type": "code",
      "source": [
        "from collections import deque\n",
        "\n",
        "class Graph:\n",
        "    def __init__(self, graph):\n",
        "        self.graph = graph  # Residual graph\n",
        "        self.ROW = len(graph)\n",
        "\n",
        "    def bfs(self, source, sink, parent):\n",
        "        visited = [False] * self.ROW\n",
        "        queue = deque([source])\n",
        "        visited[source] = True\n",
        "\n",
        "        while queue:\n",
        "            u = queue.popleft()\n",
        "\n",
        "            for v, capacity in enumerate(self.graph[u]):\n",
        "                if not visited[v] and capacity > 0:  # If there's available capacity and v is not visited\n",
        "                    queue.append(v)\n",
        "                    visited[v] = True\n",
        "                    parent[v] = u\n",
        "                    if v == sink:\n",
        "                        return True\n",
        "        return False\n",
        "\n",
        "    def edmonds_karp(self, source, sink):\n",
        "        parent = [-1] * self.ROW\n",
        "        max_flow = 0\n",
        "        iteration = 1\n",
        "\n",
        "        while self.bfs(source, sink, parent):\n",
        "            # Find the maximum flow through the path found by BFS\n",
        "            path_flow = float('Inf')\n",
        "            s = sink\n",
        "            path = []\n",
        "            while s != source:\n",
        "                path_flow = min(path_flow, self.graph[parent[s]][s])\n",
        "                path.append(s)\n",
        "                s = parent[s]\n",
        "            path.append(source)\n",
        "            path = path[::-1]  # reverse to get the path from source to sink\n",
        "\n",
        "            print(f\"Iteration {iteration}: Augmenting path found - {path} with flow {path_flow}\")\n",
        "\n",
        "            # Update residual capacities of the edges and reverse edges along the path\n",
        "            v = sink\n",
        "            while v != source:\n",
        "                u = parent[v]\n",
        "                self.graph[u][v] -= path_flow\n",
        "                self.graph[v][u] += path_flow\n",
        "                v = parent[v]\n",
        "\n",
        "            max_flow += path_flow\n",
        "            print(f\"Updated Residual Graph after iteration {iteration}:\")\n",
        "            for row in self.graph:\n",
        "                print(row)\n",
        "            print(\"\\n\")\n",
        "            iteration += 1\n",
        "\n",
        "        print(f\"Maximum Flow: {max_flow}\")\n",
        "        return max_flow\n",
        "graph = [\n",
        "    [0, 16, 13, 0, 0, 0],\n",
        "    [0, 0, 10, 12, 0, 0],\n",
        "    [0, 4, 0, 0, 14, 0],\n",
        "    [0, 0, 9, 0, 0, 20],\n",
        "    [0, 0, 0, 7, 0, 4],\n",
        "    [0, 0, 0, 0, 0, 0]\n",
        "]\n",
        "\n",
        "g = Graph(graph)\n",
        "source = 0\n",
        "sink = 5\n",
        "g.edmonds_karp(source, sink)\n"
      ],
      "metadata": {
        "colab": {
          "base_uri": "https://localhost:8080/"
        },
        "id": "MUIFyxkNhvpu",
        "outputId": "534b383d-e3b7-4971-f39e-857e32b407c1"
      },
      "execution_count": null,
      "outputs": [
        {
          "output_type": "stream",
          "name": "stdout",
          "text": [
            "Iteration 1: Augmenting path found - [0, 1, 3, 5] with flow 12\n",
            "Updated Residual Graph after iteration 1:\n",
            "[0, 4, 13, 0, 0, 0]\n",
            "[12, 0, 10, 0, 0, 0]\n",
            "[0, 4, 0, 0, 14, 0]\n",
            "[0, 12, 9, 0, 0, 8]\n",
            "[0, 0, 0, 7, 0, 4]\n",
            "[0, 0, 0, 12, 0, 0]\n",
            "\n",
            "\n",
            "Iteration 2: Augmenting path found - [0, 2, 4, 5] with flow 4\n",
            "Updated Residual Graph after iteration 2:\n",
            "[0, 4, 9, 0, 0, 0]\n",
            "[12, 0, 10, 0, 0, 0]\n",
            "[4, 4, 0, 0, 10, 0]\n",
            "[0, 12, 9, 0, 0, 8]\n",
            "[0, 0, 4, 7, 0, 0]\n",
            "[0, 0, 0, 12, 4, 0]\n",
            "\n",
            "\n",
            "Iteration 3: Augmenting path found - [0, 2, 4, 3, 5] with flow 7\n",
            "Updated Residual Graph after iteration 3:\n",
            "[0, 4, 2, 0, 0, 0]\n",
            "[12, 0, 10, 0, 0, 0]\n",
            "[11, 4, 0, 0, 3, 0]\n",
            "[0, 12, 9, 0, 7, 1]\n",
            "[0, 0, 11, 0, 0, 0]\n",
            "[0, 0, 0, 19, 4, 0]\n",
            "\n",
            "\n",
            "Maximum Flow: 23\n"
          ]
        },
        {
          "output_type": "execute_result",
          "data": {
            "text/plain": [
              "23"
            ]
          },
          "metadata": {},
          "execution_count": 7
        }
      ]
    },
    {
      "cell_type": "markdown",
      "source": [
        "##**EDMONDS BLOSSOMS**"
      ],
      "metadata": {
        "id": "QsDDPtfAzQN9"
      }
    },
    {
      "cell_type": "code",
      "source": [
        "from collections import deque, defaultdict\n",
        "\n",
        "def find_augmenting_path(graph, match, parent, start):\n",
        "    \"\"\"Use BFS to find an augmenting path starting from 'start'.\"\"\"\n",
        "    queue = deque([start])\n",
        "    root = {start: start}\n",
        "    parent[start] = None\n",
        "\n",
        "    while queue:\n",
        "        u = queue.popleft()\n",
        "\n",
        "        for v in graph[u]:\n",
        "            if v == root[u]:  # Skip if it's a self-loop\n",
        "                continue\n",
        "\n",
        "            if v not in parent:\n",
        "                # If 'v' is not matched, we found an augmenting path\n",
        "                if match[v] is None:\n",
        "                    return u, v\n",
        "                # Otherwise, continue searching\n",
        "                else:\n",
        "                    parent[v] = u\n",
        "                    root[v] = root[u]\n",
        "                    queue.append(match[v])\n",
        "                    parent[match[v]] = v\n",
        "                    root[match[v]] = root[u]\n",
        "            elif root[v] != root[u]:\n",
        "                # Found a blossom (odd cycle)\n",
        "                return contract_blossom(graph, match, parent, u, v)\n",
        "    return None\n",
        "\n",
        "def contract_blossom(graph, match, parent, u, v):\n",
        "    \"\"\"Contracts the blossom formed by vertices u and v.\"\"\"\n",
        "    path_u, path_v = [], []\n",
        "\n",
        "    # Trace paths back to the root from 'u' and 'v'\n",
        "    while u is not None:\n",
        "        path_u.append(u)\n",
        "        u = parent[u]\n",
        "    while v is not None:\n",
        "        path_v.append(v)\n",
        "        v = parent[v]\n",
        "\n",
        "    # Find the first common ancestor (root) to close the blossom\n",
        "    root = None\n",
        "    while path_u[-1] == path_v[-1]:\n",
        "        root = path_u.pop()\n",
        "        path_v.pop()\n",
        "\n",
        "    # Contract the blossom by adjusting the matching\n",
        "    # Make all vertices in the cycle behave as a single node\n",
        "    for vertex in path_u + path_v:\n",
        "        if vertex != root:\n",
        "            parent[vertex] = root\n",
        "            match[vertex] = None\n",
        "    return root, root\n",
        "\n",
        "def augment_matching(graph, match, u, v):\n",
        "    \"\"\"Augments the matching along an augmenting path.\"\"\"\n",
        "    while u is not None:\n",
        "        # Flip the matched/unmatched edges along the augmenting path\n",
        "        next_u, next_v = match[u], match[v]\n",
        "        match[u], match[v] = v, u\n",
        "        u, v = next_v, next_u\n",
        "\n",
        "def edmonds_blossom(graph, num_nodes):\n",
        "    \"\"\"Finds maximum matching in a graph using Edmonds' Blossom algorithm.\"\"\"\n",
        "    match = {i: None for i in range(num_nodes)}\n",
        "\n",
        "    for start in range(num_nodes):\n",
        "        if match[start] is None:\n",
        "            parent = {}\n",
        "            path = find_augmenting_path(graph, match, parent, start)\n",
        "\n",
        "            if path is not None:\n",
        "                u, v = path\n",
        "                augment_matching(graph, match, u, v)\n",
        "\n",
        "    return match\n",
        "\n",
        "# Example usage\n",
        "graph = defaultdict(list)\n",
        "edges = [(0, 1), (0, 2), (1, 2), (1, 3), (2, 4), (3, 4), (4, 5)]\n",
        "for u, v in edges:\n",
        "    graph[u].append(v)\n",
        "    graph[v].append(u)\n",
        "\n",
        "match = edmonds_blossom(graph, num_nodes=6)\n",
        "print(\"Maximum Matching:\")\n",
        "for u, v in match.items():\n",
        "    if v is not None and u < v:\n",
        "        print(f\"{u} - {v}\")\n"
      ],
      "metadata": {
        "id": "4_0r4uovzcYT",
        "outputId": "3c29c23f-62df-4c53-bf70-ca7e63479908",
        "colab": {
          "base_uri": "https://localhost:8080/"
        }
      },
      "execution_count": 5,
      "outputs": [
        {
          "output_type": "stream",
          "name": "stdout",
          "text": [
            "Maximum Matching:\n",
            "0 - 1\n",
            "1 - 3\n",
            "2 - 4\n"
          ]
        }
      ]
    },
    {
      "cell_type": "code",
      "source": [],
      "metadata": {
        "id": "Bc7AYT5lzcWs"
      },
      "execution_count": null,
      "outputs": []
    },
    {
      "cell_type": "markdown",
      "source": [
        "##**STRASSENS**"
      ],
      "metadata": {
        "id": "uIwyMIbblGLv"
      }
    },
    {
      "cell_type": "code",
      "source": [
        "import numpy as np\n",
        "\n",
        "def add_matrix(A, B):\n",
        "    return [[A[i][j] + B[i][j] for j in range(len(A))] for i in range(len(A))]\n",
        "\n",
        "def subtract_matrix(A, B):\n",
        "    return [[A[i][j] - B[i][j] for j in range(len(A))] for i in range(len(A))]\n",
        "\n",
        "def strassen(A, B):\n",
        "    n = len(A)\n",
        "\n",
        "    # Base case for recursion\n",
        "    if n == 1:\n",
        "        return [[A[0][0] * B[0][0]]]\n",
        "\n",
        "    # Split matrices into quadrants\n",
        "    mid = n // 2\n",
        "    A11 = [row[:mid] for row in A[:mid]]\n",
        "    A12 = [row[mid:] for row in A[:mid]]\n",
        "    A21 = [row[:mid] for row in A[mid:]]\n",
        "    A22 = [row[mid:] for row in A[mid:]]\n",
        "\n",
        "    B11 = [row[:mid] for row in B[:mid]]\n",
        "    B12 = [row[mid:] for row in B[:mid]]\n",
        "    B21 = [row[:mid] for row in B[mid:]]\n",
        "    B22 = [row[mid:] for row in B[mid:]]\n",
        "\n",
        "    # Strassen's sub-formulas\n",
        "    M1 = strassen(add_matrix(A11, A22), add_matrix(B11, B22))\n",
        "    M2 = strassen(add_matrix(A21, A22), B11)\n",
        "    M3 = strassen(A11, subtract_matrix(B12, B22))\n",
        "    M4 = strassen(A22, subtract_matrix(B21, B11))\n",
        "    M5 = strassen(add_matrix(A11, A12), B22)\n",
        "    M6 = strassen(subtract_matrix(A21, A11), add_matrix(B11, B12))\n",
        "    M7 = strassen(subtract_matrix(A12, A22), add_matrix(B21, B22))\n",
        "\n",
        "    # Calculating the result quadrants\n",
        "    C11 = add_matrix(subtract_matrix(add_matrix(M1, M4), M5), M7)\n",
        "    C12 = add_matrix(M3, M5)\n",
        "    C21 = add_matrix(M2, M4)\n",
        "    C22 = add_matrix(subtract_matrix(add_matrix(M1, M3), M2), M6)\n",
        "\n",
        "    # Combining the quadrants into a single matrix\n",
        "    C = []\n",
        "    for i in range(mid):\n",
        "        C.append(C11[i] + C12[i])\n",
        "    for i in range(mid):\n",
        "        C.append(C21[i] + C22[i])\n",
        "\n",
        "    return C\n",
        "A = [\n",
        "    [1, 2, 3, 4],\n",
        "    [5, 6, 7, 8],\n",
        "    [9, 10, 11, 12],\n",
        "    [13, 14, 15, 16]\n",
        "]\n",
        "\n",
        "B = [\n",
        "    [17, 18, 19, 20],\n",
        "    [21, 22, 23, 24],\n",
        "    [25, 26, 27, 28],\n",
        "    [29, 30, 31, 32]\n",
        "]\n",
        "\n",
        "result = strassen(A, B)\n",
        "for row in result:\n",
        "    print(row)\n"
      ],
      "metadata": {
        "colab": {
          "base_uri": "https://localhost:8080/"
        },
        "id": "spwbaXaKiPmB",
        "outputId": "ef933449-d0bd-4faa-aec9-959ec64fc991"
      },
      "execution_count": null,
      "outputs": [
        {
          "output_type": "stream",
          "name": "stdout",
          "text": [
            "[250, 260, 270, 280]\n",
            "[618, 644, 670, 696]\n",
            "[986, 1028, 1070, 1112]\n",
            "[1354, 1412, 1470, 1528]\n"
          ]
        }
      ]
    },
    {
      "cell_type": "code",
      "source": [
        "#strassens multiplication\n",
        "\n",
        "import numpy as np\n",
        "\n",
        "def add_matrix(A, B):\n",
        "    return A + B\n",
        "\n",
        "def subtract_matrix(A, B):\n",
        "    return A - B\n",
        "\n",
        "def strassen(A, B):\n",
        "    n = A.shape[0]\n",
        "\n",
        "    # Base case when matrix size is 1x1\n",
        "    if n == 1:\n",
        "        return A * B\n",
        "\n",
        "    # Divide matrices into quadrants\n",
        "    mid = n // 2\n",
        "    A11, A12, A21, A22 = A[:mid, :mid], A[:mid, mid:], A[mid:, :mid], A[mid:, mid:]\n",
        "    B11, B12, B21, B22 = B[:mid, :mid], B[:mid, mid:], B[mid:, :mid], B[mid:, mid:]\n",
        "\n",
        "    # Strassen's 7 sub-matrix multiplications\n",
        "    M1 = strassen(add_matrix(A11, A22), add_matrix(B11, B22))\n",
        "    M2 = strassen(add_matrix(A21, A22), B11)\n",
        "    M3 = strassen(A11, subtract_matrix(B12, B22))\n",
        "    M4 = strassen(A22, subtract_matrix(B21, B11))\n",
        "    M5 = strassen(add_matrix(A11, A12), B22)\n",
        "    M6 = strassen(subtract_matrix(A21, A11), add_matrix(B11, B12))\n",
        "    M7 = strassen(subtract_matrix(A12, A22), add_matrix(B21, B22))\n",
        "\n",
        "    # Combine sub-matrices into the result matrix\n",
        "    C11 = M1 + M4 - M5 + M7\n",
        "    C12 = M3 + M5\n",
        "    C21 = M2 + M4\n",
        "    C22 = M1 - M2 + M3 + M6\n",
        "\n",
        "    # Concatenate quadrants\n",
        "    top = np.hstack((C11, C12))\n",
        "    bottom = np.hstack((C21, C22))\n",
        "    return np.vstack((top, bottom))\n",
        "\n",
        "# Example usage:\n",
        "A = np.array([[1, 2], [3, 4]])\n",
        "B = np.array([[5, 6], [7, 8]])\n",
        "print(\"Strassen's Matrix Multiplication Result:\\n\", strassen(A, B))\n"
      ],
      "metadata": {
        "id": "RcTf6K_gxv1f",
        "outputId": "48bf13a2-3ab5-428d-8f31-94d7ea80244f",
        "colab": {
          "base_uri": "https://localhost:8080/"
        }
      },
      "execution_count": 1,
      "outputs": [
        {
          "output_type": "stream",
          "name": "stdout",
          "text": [
            "Strassen's Matrix Multiplication Result:\n",
            " [[19 22]\n",
            " [43 50]]\n"
          ]
        }
      ]
    },
    {
      "cell_type": "code",
      "source": [
        "#DFS Traversal Using Strassens\n",
        "\n",
        "def dfs(graph, start, visited=None):\n",
        "    if visited is None:\n",
        "        visited = set()\n",
        "    visited.add(start)\n",
        "\n",
        "    # Process the node (example: print it)\n",
        "    print(start, end=' ')\n",
        "\n",
        "    for neighbor in graph[start]:\n",
        "        if neighbor not in visited:\n",
        "            dfs(graph, neighbor, visited)\n",
        "\n",
        "# Example usage:\n",
        "graph = {\n",
        "    'A': ['B', 'C'],\n",
        "    'B': ['A', 'D', 'E'],\n",
        "    'C': ['A', 'F'],\n",
        "    'D': ['B'],\n",
        "    'E': ['B', 'F'],\n",
        "    'F': ['C', 'E']\n",
        "}\n",
        "print(\"DFS Traversal:\")\n",
        "dfs(graph, 'A')\n"
      ],
      "metadata": {
        "id": "ou86BNB0x6sh",
        "outputId": "35065d91-d319-4ff0-f754-1f2ffed65d40",
        "colab": {
          "base_uri": "https://localhost:8080/"
        }
      },
      "execution_count": 3,
      "outputs": [
        {
          "output_type": "stream",
          "name": "stdout",
          "text": [
            "DFS Traversal:\n",
            "A B D E F C "
          ]
        }
      ]
    },
    {
      "cell_type": "code",
      "source": [
        "#BFS using Strassens\n",
        "\n",
        "from collections import deque\n",
        "\n",
        "def bfs(graph, start):\n",
        "    visited = set([start])\n",
        "    queue = deque([start])\n",
        "\n",
        "    while queue:\n",
        "        vertex = queue.popleft()\n",
        "\n",
        "        # Process the node (example: print it)\n",
        "        print(vertex, end=' ')\n",
        "\n",
        "        for neighbor in graph[vertex]:\n",
        "            if neighbor not in visited:\n",
        "                visited.add(neighbor)\n",
        "                queue.append(neighbor)\n",
        "\n",
        "# Example usage:\n",
        "print(\"\\nBFS Traversal:\")\n",
        "bfs(graph, 'A')\n"
      ],
      "metadata": {
        "id": "8tCSmy8Zx6rS",
        "outputId": "b197c16a-88a7-4901-9eb7-77a49b1f98c0",
        "colab": {
          "base_uri": "https://localhost:8080/"
        }
      },
      "execution_count": 4,
      "outputs": [
        {
          "output_type": "stream",
          "name": "stdout",
          "text": [
            "\n",
            "BFS Traversal:\n",
            "A B C D E F "
          ]
        }
      ]
    },
    {
      "cell_type": "markdown",
      "source": [
        "##**Hopcroft-Karp**"
      ],
      "metadata": {
        "id": "XKNhwjMYn4_p"
      }
    },
    {
      "cell_type": "code",
      "source": [
        "from collections import deque, defaultdict\n",
        "\n",
        "class HopcroftKarp:\n",
        "    def __init__(self, U, V):\n",
        "        self.U = U  # Set of vertices on the left side\n",
        "        self.V = V  # Set of vertices on the right side\n",
        "        self.pair_U = {u: None for u in U}  # Matching pairs for U\n",
        "        self.pair_V = {v: None for v in V}  # Matching pairs for V\n",
        "        self.dist = {}  # Distance in the layered graph\n",
        "        self.graph = defaultdict(list)  # Adjacency list\n",
        "\n",
        "    def add_edge(self, u, v):\n",
        "        self.graph[u].append(v)\n",
        "        self.graph[v].append(u)\n",
        "\n",
        "    def bfs(self):\n",
        "        queue = deque()\n",
        "        for u in self.U:\n",
        "            if self.pair_U[u] is None:  # Free node in U\n",
        "                self.dist[u] = 0\n",
        "                queue.append(u)\n",
        "            else:\n",
        "                self.dist[u] = float('inf')\n",
        "        self.dist[None] = float('inf')\n",
        "\n",
        "        while queue:\n",
        "            u = queue.popleft()\n",
        "            if self.dist[u] < self.dist[None]:\n",
        "                for v in self.graph[u]:\n",
        "                    pair_u = self.pair_V[v]\n",
        "                    if self.dist[pair_u] == float('inf'):\n",
        "                        self.dist[pair_u] = self.dist[u] + 1\n",
        "                        queue.append(pair_u)\n",
        "        return self.dist[None] != float('inf')\n",
        "\n",
        "    def dfs(self, u):\n",
        "        if u is not None:\n",
        "            for v in self.graph[u]:\n",
        "                pair_u = self.pair_V[v]\n",
        "                if self.dist[pair_u] == self.dist[u] + 1:\n",
        "                    if self.dfs(pair_u):\n",
        "                        self.pair_V[v] = u\n",
        "                        self.pair_U[u] = v\n",
        "                        return True\n",
        "            self.dist[u] = float('inf')\n",
        "            return False\n",
        "        return True\n",
        "\n",
        "    def maximum_matching(self):\n",
        "        matching = 0\n",
        "        while self.bfs():\n",
        "            for u in self.U:\n",
        "                if self.pair_U[u] is None:\n",
        "                    if self.dfs(u):\n",
        "                        matching += 1\n",
        "        return matching\n",
        "\n",
        "    def get_matching_pairs(self):\n",
        "        return [(u, v) for u, v in self.pair_U.items() if v is not None]\n",
        "\n",
        "U = {1, 2, 3, 4}\n",
        "V = {5, 6, 7, 8}\n",
        "\n",
        "graph = HopcroftKarp(U, V)\n",
        "graph.add_edge(1, 5)\n",
        "graph.add_edge(1, 6)\n",
        "graph.add_edge(2, 6)\n",
        "graph.add_edge(2, 7)\n",
        "graph.add_edge(3, 7)\n",
        "graph.add_edge(3, 8)\n",
        "graph.add_edge(4, 8)\n",
        "\n",
        "max_matching = graph.maximum_matching()\n",
        "print(f\"Maximum Matching: {max_matching}\")\n",
        "print(\"Matching Pairs:\", graph.get_matching_pairs())\n"
      ],
      "metadata": {
        "colab": {
          "base_uri": "https://localhost:8080/"
        },
        "id": "EYrAtw2tk-xD",
        "outputId": "8faf0897-48e1-4e36-dba2-751abed0fb61"
      },
      "execution_count": null,
      "outputs": [
        {
          "output_type": "stream",
          "name": "stdout",
          "text": [
            "Maximum Matching: 4\n",
            "Matching Pairs: [(1, 5), (2, 6), (3, 7), (4, 8)]\n"
          ]
        }
      ]
    },
    {
      "cell_type": "code",
      "source": [],
      "metadata": {
        "id": "ZD6EOQyVoARu"
      },
      "execution_count": null,
      "outputs": []
    }
  ]
}